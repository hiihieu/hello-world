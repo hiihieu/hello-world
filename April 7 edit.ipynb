{
 "cells": [
  {
   "cell_type": "code",
   "execution_count": 79,
   "id": "ac94f459",
   "metadata": {},
   "outputs": [
    {
     "name": "stdout",
     "output_type": "stream",
     "text": [
      "Mean of SalePrice in data_train:  180921.19589041095\n",
      "Standard deviation of SalePrice in data_train:  79442.50288288663\n",
      "      MSSubClass MSZoning  LotFrontage  LotArea Street Alley LotShape  \\\n",
      "0             60       RL         65.0     8450   Pave   NaN      Reg   \n",
      "1             20       RL         80.0     9600   Pave   NaN      Reg   \n",
      "2             60       RL         68.0    11250   Pave   NaN      IR1   \n",
      "3             70       RL         60.0     9550   Pave   NaN      IR1   \n",
      "4             60       RL         84.0    14260   Pave   NaN      IR1   \n",
      "...          ...      ...          ...      ...    ...   ...      ...   \n",
      "1455          60       RL         62.0     7917   Pave   NaN      Reg   \n",
      "1456          20       RL         85.0    13175   Pave   NaN      Reg   \n",
      "1457          70       RL         66.0     9042   Pave   NaN      Reg   \n",
      "1458          20       RL         68.0     9717   Pave   NaN      Reg   \n",
      "1459          20       RL         75.0     9937   Pave   NaN      Reg   \n",
      "\n",
      "     LandContour Utilities LotConfig  ... ScreenPorch PoolArea PoolQC  Fence  \\\n",
      "0            Lvl    AllPub    Inside  ...           0        0    NaN    NaN   \n",
      "1            Lvl    AllPub       FR2  ...           0        0    NaN    NaN   \n",
      "2            Lvl    AllPub    Inside  ...           0        0    NaN    NaN   \n",
      "3            Lvl    AllPub    Corner  ...           0        0    NaN    NaN   \n",
      "4            Lvl    AllPub       FR2  ...           0        0    NaN    NaN   \n",
      "...          ...       ...       ...  ...         ...      ...    ...    ...   \n",
      "1455         Lvl    AllPub    Inside  ...           0        0    NaN    NaN   \n",
      "1456         Lvl    AllPub    Inside  ...           0        0    NaN  MnPrv   \n",
      "1457         Lvl    AllPub    Inside  ...           0        0    NaN  GdPrv   \n",
      "1458         Lvl    AllPub    Inside  ...           0        0    NaN    NaN   \n",
      "1459         Lvl    AllPub    Inside  ...           0        0    NaN    NaN   \n",
      "\n",
      "     MiscFeature MiscVal  MoSold  YrSold  SaleType  SaleCondition  \n",
      "0            NaN       0       2    2008        WD         Normal  \n",
      "1            NaN       0       5    2007        WD         Normal  \n",
      "2            NaN       0       9    2008        WD         Normal  \n",
      "3            NaN       0       2    2006        WD        Abnorml  \n",
      "4            NaN       0      12    2008        WD         Normal  \n",
      "...          ...     ...     ...     ...       ...            ...  \n",
      "1455         NaN       0       8    2007        WD         Normal  \n",
      "1456         NaN       0       2    2010        WD         Normal  \n",
      "1457        Shed    2500       5    2010        WD         Normal  \n",
      "1458         NaN       0       4    2010        WD         Normal  \n",
      "1459         NaN       0       6    2008        WD         Normal  \n",
      "\n",
      "[1460 rows x 79 columns]\n",
      "      SalePrice\n",
      "0        208500\n",
      "1        181500\n",
      "2        223500\n",
      "3        140000\n",
      "4        250000\n",
      "...         ...\n",
      "1455     175000\n",
      "1456     210000\n",
      "1457     266500\n",
      "1458     142125\n",
      "1459     147500\n",
      "\n",
      "[1460 rows x 1 columns]\n"
     ]
    }
   ],
   "source": [
    "# Load necessary packages \n",
    "import matplotlib.pyplot as plt\n",
    "import pandas as pd\n",
    "import numpy as np\n",
    "from sklearn import datasets, ensemble\n",
    "from sklearn.impute import SimpleImputer\n",
    "from sklearn.inspection import permutation_importance\n",
    "from sklearn.metrics import mean_squared_error\n",
    "from sklearn.model_selection import train_test_split\n",
    "from sklearn.ensemble import GradientBoostingRegressor\n",
    "import pickle\n",
    "import pprint\n",
    "import sklearn.impute as sk\n",
    "\n",
    "\n",
    "# Load data\n",
    "data_train = pd.read_csv(\"train.csv\", sep =\",\")\n",
    "data_test = pd.read_csv(\"test.csv\", sep = \",\")\n",
    "\n",
    "\n",
    "# Calculate mean and standard deviation of SalePrice in data_train\n",
    "SalePrice_mean = data_train['SalePrice'].mean()\n",
    "SalePrice_std = data_train['SalePrice'].std()\n",
    "\n",
    "print(\"Mean of SalePrice in data_train: \", SalePrice_mean)\n",
    "print(\"Standard deviation of SalePrice in data_train: \", SalePrice_std)\n",
    "\n",
    "\n",
    "# Extract Id column\n",
    "test_ids = data_test['Id']\n",
    "\n",
    "# Drop the 'Id' column we wont need for the prediction process.\n",
    "data_train.drop(\"Id\", axis = 1, inplace = True)\n",
    "data_test.drop(\"Id\", axis = 1, inplace = True)\n",
    "\n",
    "\n",
    "# Split data_train into X and y\n",
    "y = data_train['SalePrice']\n",
    "y = pd.DataFrame(y)\n",
    "data_train.drop('SalePrice', axis=1, inplace = True)\n",
    "\n",
    "\n",
    "X = data_train \n",
    "\n",
    "print(X)\n",
    "print(y)"
   ]
  },
  {
   "cell_type": "code",
   "execution_count": 80,
   "id": "701588ee",
   "metadata": {},
   "outputs": [
    {
     "name": "stdout",
     "output_type": "stream",
     "text": [
      "      SalePrice\n",
      "0     12.247699\n",
      "1     12.109016\n",
      "2     12.317171\n",
      "3     11.849405\n",
      "4     12.429220\n",
      "...         ...\n",
      "1455  12.072547\n",
      "1456  12.254868\n",
      "1457  12.493133\n",
      "1458  11.864469\n",
      "1459  11.901590\n",
      "\n",
      "[1460 rows x 1 columns]\n"
     ]
    }
   ],
   "source": [
    "from sklearn.preprocessing import StandardScaler\n",
    "\n",
    "\n",
    "#scaler = StandardScaler()\n",
    "y = np.log1p(y)\n",
    "print(y)\n"
   ]
  },
  {
   "cell_type": "code",
   "execution_count": 81,
   "id": "030279a6",
   "metadata": {},
   "outputs": [
    {
     "data": {
      "image/png": "[encoded data removed]",
      "text/plain": [
       "<Figure size 640x480 with 1 Axes>"
      ]
     },
     "metadata": {},
     "output_type": "display_data"
    }
   ],
   "source": [
    "plt.hist(y)\n",
    "plt.show()\n"
   ]
  },
  {
   "cell_type": "code",
   "execution_count": 83,
   "id": "ed5f919e",
   "metadata": {},
   "outputs": [],
   "source": [
    "# Define imputers for categorical and numerical features\n",
    "categorical_cols = X.select_dtypes(include='object').columns.tolist()\n",
    "numerical_cols = X.select_dtypes(exclude='object').columns.tolist()\n",
    "\n",
    "categorical_imputer = SimpleImputer(strategy='most_frequent')\n",
    "numerical_imputer = SimpleImputer(strategy='mean')\n",
    "\n",
    "# Categorical cleaning \n",
    "X[categorical_cols] = categorical_imputer.fit_transform(X[categorical_cols])\n",
    "data_test[categorical_cols] = categorical_imputer.transform(data_test[categorical_cols])\n",
    "\n",
    "# Numerical Cleaning\n",
    "X[numerical_cols] = numerical_imputer.fit_transform(X[numerical_cols])\n",
    "data_test[numerical_cols] = numerical_imputer.transform(data_test[numerical_cols])\n",
    "\n",
    "# Perform one-hot encoding on categorical columns\n",
    "X_encoded = pd.get_dummies(X)\n",
    "data_test_encoded = pd.get_dummies(data_test)\n",
    "\n",
    "# Reindex the test set to have the same column order as the training set\n",
    "data_test_encoded = data_test_encoded.reindex(columns=X_encoded.columns, fill_value=0)\n"
   ]
  },
  {
   "cell_type": "code",
   "execution_count": 84,
   "id": "cee4561e",
   "metadata": {},
   "outputs": [
    {
     "name": "stdout",
     "output_type": "stream",
     "text": [
      "Number of columns in X_train_encoded: 288\n",
      "Number of columns in data_test_encoded: 288\n"
     ]
    }
   ],
   "source": [
    "#Check number of columns\n",
    "print(\"Number of columns in X_train_encoded:\", X_encoded.shape[1])\n",
    "print(\"Number of columns in data_test_encoded:\", data_test_encoded.shape[1])\n"
   ]
  },
  {
   "cell_type": "code",
   "execution_count": 98,
   "id": "5f69b462",
   "metadata": {},
   "outputs": [
    {
     "name": "stderr",
     "output_type": "stream",
     "text": [
      "/Users/hiuhiu/opt/anaconda3/lib/python3.9/site-packages/sklearn/ensemble/_gb.py:494: DataConversionWarning: A column-vector y was passed when a 1d array was expected. Please change the shape of y to (n_samples, ), for example using ravel().\n",
      "  y = column_or_1d(y, warn=True)\n",
      "/Users/hiuhiu/opt/anaconda3/lib/python3.9/site-packages/sklearn/ensemble/_gb.py:286: FutureWarning: The loss 'ls' was deprecated in v1.0 and will be removed in version 1.2. Use 'squared_error' which is equivalent.\n",
      "  warnings.warn(\n"
     ]
    },
    {
     "name": "stdout",
     "output_type": "stream",
     "text": [
      "MSE on validation set: 0.006633476626357569\n",
      "RMSE on validation set: 0.08144615783668109\n",
      "0.9583978767564233\n"
     ]
    }
   ],
   "source": [
    "# Define and train the model\n",
    "model = GradientBoostingRegressor(n_estimators=100, max_depth=3, learning_rate=0.1, loss='ls')\n",
    "model.fit(X_encoded, y)\n",
    "\n",
    "\n",
    "# Evaluate the model on the validation set\n",
    "y_val_pred = model.predict(X_encoded)\n",
    "mse = mean_squared_error(y, y_val_pred)\n",
    "print(\"MSE on validation set:\", mse)\n",
    "\n",
    "# Calculate RMSE\n",
    "rmse = np.sqrt(mean_squared_error(y_val_pred, y))\n",
    "print(\"RMSE on validation set:\", rmse)\n",
    "\n",
    "\n",
    "#Find how best model fits the data quantitatively. sklearn\n",
    "print(model.score(X_encoded, y))\n",
    "\n",
    "#max_depth =3 , score of 96% \n",
    "#max_depth = 5 , score of 99%\n",
    "\n",
    "# Make predictions on the test set\n",
    "test_pred = model.predict(data_test_encoded)\n",
    "\n",
    "\n",
    "# Make predictions on the validation set\n",
    "y_val_pred = model.predict(X_encoded)\n"
   ]
  },
  {
   "cell_type": "code",
   "execution_count": null,
   "id": "6958ba9f",
   "metadata": {},
   "outputs": [],
   "source": []
  },
  {
   "cell_type": "code",
   "execution_count": 101,
   "id": "198edce4",
   "metadata": {},
   "outputs": [],
   "source": [
    "\n",
    "SalePrice = np.floor(np.expm1(test_pred))"
   ]
  },
  {
   "cell_type": "code",
   "execution_count": 102,
   "id": "fdf8ca6e",
   "metadata": {},
   "outputs": [
    {
     "name": "stdout",
     "output_type": "stream",
     "text": [
      "RMSE on validation set:  0.08144615783668109\n"
     ]
    }
   ],
   "source": [
    "# Print the root mean squared error (RMSE)\n",
    "print(\"RMSE on validation set: \", rmse)\n",
    "\n",
    "# Combine the predicted SalePrice with the test IDs\n",
    "output = pd.DataFrame({'Id': test_ids, 'SalePrice': SalePrice})\n",
    "# Save to csv file \n",
    "output.to_csv('submission_April_7_ver4.csv', index=False)"
   ]
  },
  {
   "cell_type": "code",
   "execution_count": null,
   "id": "f21e7a38",
   "metadata": {},
   "outputs": [],
   "source": []
  },
  {
   "cell_type": "code",
   "execution_count": null,
   "id": "f9761722",
   "metadata": {},
   "outputs": [],
   "source": []
  },
  {
   "cell_type": "code",
   "execution_count": null,
   "id": "9a08d4b0",
   "metadata": {},
   "outputs": [],
   "source": []
  },
  {
   "cell_type": "code",
   "execution_count": null,
   "id": "f6ed3503",
   "metadata": {},
   "outputs": [],
   "source": [
    "# Save encoded data to CSV files\n",
    "X_train_encoded.to_csv('X_train_encoded.csv', index=False)\n",
    "y_train.to_csv('y_train.csv', index=False, header=True)\n",
    "X_test_encoded.to_csv('X_test_encoded.csv', index=False)\n"
   ]
  }
 ],
 "metadata": {
  "kernelspec": {
   "display_name": "Python 3 (ipykernel)",
   "language": "python",
   "name": "python3"
  },
  "language_info": {
   "codemirror_mode": {
    "name": "ipython",
    "version": 3
   },
   "file_extension": ".py",
   "mimetype": "text/x-python",
   "name": "python",
   "nbconvert_exporter": "python",
   "pygments_lexer": "ipython3",
   "version": "3.9.13"
  }
 },
 "nbformat": 4,
 "nbformat_minor": 5
}
